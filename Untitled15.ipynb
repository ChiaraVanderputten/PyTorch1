{
  "nbformat": 4,
  "nbformat_minor": 0,
  "metadata": {
    "colab": {
      "name": "Untitled15.ipynb",
      "provenance": [],
      "toc_visible": true,
      "authorship_tag": "ABX9TyNZs2aLK+oqKh5KY11+sYgN",
      "include_colab_link": true
    },
    "kernelspec": {
      "name": "python3",
      "display_name": "Python 3"
    },
    "language_info": {
      "name": "python"
    },
    "accelerator": "GPU"
  },
  "cells": [
    {
      "cell_type": "markdown",
      "metadata": {
        "id": "view-in-github",
        "colab_type": "text"
      },
      "source": [
        "<a href=\"https://colab.research.google.com/github/ChiaraVanderputten/PyTorch1/blob/main/Untitled15.ipynb\" target=\"_parent\"><img src=\"https://colab.research.google.com/assets/colab-badge.svg\" alt=\"Open In Colab\"/></a>"
      ]
    },
    {
      "cell_type": "code",
      "execution_count": 7,
      "metadata": {
        "colab": {
          "base_uri": "https://localhost:8080/"
        },
        "id": "Z-qCLYJkfzuh",
        "outputId": "f4cc9200-10b3-4a01-982e-004da6a90b86"
      },
      "outputs": [
        {
          "output_type": "stream",
          "name": "stdout",
          "text": [
            "tensor([[0., 0., 0.],\n",
            "        [0., 0., 0.],\n",
            "        [0., 0., 0.]])\n",
            "cpu\n",
            "cuda:0\n",
            "<built-in method size of Tensor object at 0x7f100a0cbb90>\n",
            "torch.float32\n",
            "tensor([[1., 1., 1.],\n",
            "        [1., 1., 1.],\n",
            "        [1., 1., 1.]], device='cuda:0')\n",
            "tensor([[1., 1., 1.],\n",
            "        [1., 1., 1.],\n",
            "        [1., 1., 1.]], device='cuda:0')\n",
            "[[0.27117173 0.06666332 0.32899356]\n",
            " [0.09730776 0.35804435 0.27267581]\n",
            " [0.9061237  0.68145806 0.61078449]]\n",
            "torch.float64\n"
          ]
        }
      ],
      "source": [
        "import torch\n",
        "import numpy as np\n",
        "\n",
        "#define tensor\n",
        "\n",
        "t1 = torch.zeros(size=(3,3), dtype = torch.float32)\n",
        "print(t1) #is allocate in cpu but we want in gpu\n",
        "print(t1.device)\n",
        "t1=t1.cuda()\n",
        "print(t1.device)\n",
        "print(t1.size)\n",
        "print(t1.dtype)\n",
        "                                                  #to say to store in gpu\n",
        "t2=torch.ones(size=(3,3), dtype = torch.float32, device='cuda')\n",
        "print(t2)\n",
        "         #se t2 non era in cuda dava errore perchè erano in due posti diversi uno in cpu e uno in gpu\n",
        "sum= t1+t2\n",
        "print(sum)\n",
        "\n",
        "np1 = np.random.rand(3,3)\n",
        "print(np1)\n",
        "\n",
        "t3= torch.from_numpy(np1)\n",
        "t3 = t3.cuda()\n",
        "print(t3.dtype)\n",
        "t3=t3.type(torch.float32)\n",
        "\n",
        "np2=t3.cpu().numpy() #to reconvert in numpy\n"
      ]
    },
    {
      "cell_type": "code",
      "source": [
        "from torch.utils.data import Dataset\n",
        "import torch.nn as nn\n",
        "\n",
        "class MyNetwork(nn.Module):\n",
        "  def __init__(self, input_size, hidden_layers, num_classes):\n",
        "    super(MyNetwork, self).__init__()\n",
        "    self.fc1 = nn.Linear(input_size, hidden_layers)\n",
        "    self.relu = nn.ReLU()\n",
        "    self.fc2= nn.Linear(hidden_layers, num_classes)\n",
        "  \n",
        "  def forward(self, x):\n",
        "    x1= self.fc1(x)\n",
        "    x2= self.relu(x1)\n",
        "    out = self.fc2(x2)\n",
        "    return out\n",
        "\n",
        "def main():\n",
        "  input_size=768\n",
        "  hidden_layers=500\n",
        "  num_classes=10\n",
        "\n",
        "  model= MyNetwork(input_size, hidden_layers, num_classes) \n",
        "  print(model)\n",
        "\n",
        "main()  "
      ],
      "metadata": {
        "colab": {
          "base_uri": "https://localhost:8080/"
        },
        "id": "ft45x7CDk9eA",
        "outputId": "d18f6e1c-c44d-4ae9-e6a8-fb74c930dca1"
      },
      "execution_count": 13,
      "outputs": [
        {
          "output_type": "stream",
          "name": "stdout",
          "text": [
            "MyNetwork(\n",
            "  (fc1): Linear(in_features=768, out_features=500, bias=True)\n",
            "  (relu): ReLU()\n",
            "  (fc2): Linear(in_features=500, out_features=10, bias=True)\n",
            ")\n"
          ]
        }
      ]
    },
    {
      "cell_type": "code",
      "source": [
        "from torch.utils.data import Dataset\n",
        "from PIL import Image\n",
        "\n",
        "class MyDataset(Dataset):\n",
        "  def __init__(self, images_path, labels, transform=None):\n",
        "    self.images_path= images_path\n",
        "    self.labels=labels\n",
        "    self.transform=transform\n",
        "\n",
        "  def __len__(self):\n",
        "    return len(self.images_path)  \n",
        "\n",
        "  def __get_item__(self,index):\n",
        "    img = self.images_path(index)\n",
        "    lbl = self.labels(index)\n",
        "\n",
        "    img = Image.open(img).convert(\"RGB\")\n",
        "    if self.transform is not None:\n",
        "      img=self.transform(img)\n",
        "\n",
        "    return img,lbl\n",
        "\n"
      ],
      "metadata": {
        "id": "0iOZuqUsmsVO"
      },
      "execution_count": 15,
      "outputs": []
    },
    {
      "cell_type": "code",
      "source": [
        "from torch.nn.modules import loss\n",
        "from torch.utils.data.dataloader import DataLoader\n",
        "from torchvision import transforms\n",
        "import torch.nn as nn\n",
        "import torch\n",
        "\n",
        "\n",
        "def main():\n",
        "\n",
        "  #define model\n",
        "  input_size=768\n",
        "  hidden_layers=500\n",
        "  num_classes=10\n",
        "\n",
        "  model= MyNetwork(input_size, hidden_layers, num_classes) \n",
        "  print(model)\n",
        "\n",
        "  #define dataset\n",
        "  images_list=[]\n",
        "  labels_list=[]\n",
        "\n",
        "  transform = transforms.Compose([transforms.RandomHorizontalFlip(0.5),\n",
        "                                  transforms.ToTensor(),\n",
        "                                  ])\n",
        "  \n",
        "  mydataset = MyDataset(images_list, labels_list, transform)\n",
        "  train_loader = DataLoader(mydataset, batch_size=4, shuffle=True,  num_workers=4)\n",
        "\n",
        "  #phytorch define loss\n",
        "  loss_criterion = nn.CrossEntropyLoss() #error from  predicted and what i expexted\n",
        "  \n",
        "  #define optimizer\n",
        "  lr=0.01\n",
        "  optim = torch.optim.SGD(model.params(), lr=0.01, momentum=0.9)\n",
        "  epochs = 50\n",
        "  for epoch in range(epochs):\n",
        "    for i, batch_images in enumerate(train_loader):\n",
        "      img, lbl = batch_images\n",
        "      img, lbl = img.cuda(), lbl.cuda()\n",
        "\n",
        "      optim.zero_grad()\n",
        "      out = model(img)\n",
        "\n",
        "      loss = loss_criterion(out, lbl) #controll if there are error\n",
        "\n",
        "      loss.backward()\n",
        "      optim.step()\n",
        "\n",
        "\n",
        "\n",
        "main()  "
      ],
      "metadata": {
        "colab": {
          "base_uri": "https://localhost:8080/",
          "height": 505
        },
        "id": "I9aV3Ee1oZ0p",
        "outputId": "d605d14e-3477-4552-df92-35cd47d04121"
      },
      "execution_count": 19,
      "outputs": [
        {
          "output_type": "stream",
          "name": "stdout",
          "text": [
            "MyNetwork(\n",
            "  (fc1): Linear(in_features=768, out_features=500, bias=True)\n",
            "  (relu): ReLU()\n",
            "  (fc2): Linear(in_features=500, out_features=10, bias=True)\n",
            ")\n"
          ]
        },
        {
          "output_type": "error",
          "ename": "ValueError",
          "evalue": "ignored",
          "traceback": [
            "\u001b[0;31m---------------------------------------------------------------------------\u001b[0m",
            "\u001b[0;31mValueError\u001b[0m                                Traceback (most recent call last)",
            "\u001b[0;32m<ipython-input-19-7d3341d2b1c4>\u001b[0m in \u001b[0;36m<module>\u001b[0;34m()\u001b[0m\n\u001b[1;32m     49\u001b[0m \u001b[0;34m\u001b[0m\u001b[0m\n\u001b[1;32m     50\u001b[0m \u001b[0;34m\u001b[0m\u001b[0m\n\u001b[0;32m---> 51\u001b[0;31m \u001b[0mmain\u001b[0m\u001b[0;34m(\u001b[0m\u001b[0;34m)\u001b[0m\u001b[0;34m\u001b[0m\u001b[0;34m\u001b[0m\u001b[0m\n\u001b[0m",
            "\u001b[0;32m<ipython-input-19-7d3341d2b1c4>\u001b[0m in \u001b[0;36mmain\u001b[0;34m()\u001b[0m\n\u001b[1;32m     25\u001b[0m \u001b[0;34m\u001b[0m\u001b[0m\n\u001b[1;32m     26\u001b[0m   \u001b[0mmydataset\u001b[0m \u001b[0;34m=\u001b[0m \u001b[0mMyDataset\u001b[0m\u001b[0;34m(\u001b[0m\u001b[0mimages_list\u001b[0m\u001b[0;34m,\u001b[0m \u001b[0mlabels_list\u001b[0m\u001b[0;34m,\u001b[0m \u001b[0mtransform\u001b[0m\u001b[0;34m)\u001b[0m\u001b[0;34m\u001b[0m\u001b[0;34m\u001b[0m\u001b[0m\n\u001b[0;32m---> 27\u001b[0;31m   \u001b[0mtrain_loader\u001b[0m \u001b[0;34m=\u001b[0m \u001b[0mDataLoader\u001b[0m\u001b[0;34m(\u001b[0m\u001b[0mmydataset\u001b[0m\u001b[0;34m,\u001b[0m \u001b[0mbatch_size\u001b[0m\u001b[0;34m=\u001b[0m\u001b[0;36m4\u001b[0m\u001b[0;34m,\u001b[0m \u001b[0mshuffle\u001b[0m\u001b[0;34m=\u001b[0m\u001b[0;32mTrue\u001b[0m\u001b[0;34m,\u001b[0m  \u001b[0mnum_workers\u001b[0m\u001b[0;34m=\u001b[0m\u001b[0;36m4\u001b[0m\u001b[0;34m)\u001b[0m\u001b[0;34m\u001b[0m\u001b[0;34m\u001b[0m\u001b[0m\n\u001b[0m\u001b[1;32m     28\u001b[0m \u001b[0;34m\u001b[0m\u001b[0m\n\u001b[1;32m     29\u001b[0m   \u001b[0;31m#phytorch define loss\u001b[0m\u001b[0;34m\u001b[0m\u001b[0;34m\u001b[0m\u001b[0;34m\u001b[0m\u001b[0m\n",
            "\u001b[0;32m/usr/local/lib/python3.7/dist-packages/torch/utils/data/dataloader.py\u001b[0m in \u001b[0;36m__init__\u001b[0;34m(self, dataset, batch_size, shuffle, sampler, batch_sampler, num_workers, collate_fn, pin_memory, drop_last, timeout, worker_init_fn, multiprocessing_context, generator, prefetch_factor, persistent_workers)\u001b[0m\n\u001b[1;32m    266\u001b[0m             \u001b[0;32melse\u001b[0m\u001b[0;34m:\u001b[0m  \u001b[0;31m# map-style\u001b[0m\u001b[0;34m\u001b[0m\u001b[0;34m\u001b[0m\u001b[0m\n\u001b[1;32m    267\u001b[0m                 \u001b[0;32mif\u001b[0m \u001b[0mshuffle\u001b[0m\u001b[0;34m:\u001b[0m\u001b[0;34m\u001b[0m\u001b[0;34m\u001b[0m\u001b[0m\n\u001b[0;32m--> 268\u001b[0;31m                     \u001b[0msampler\u001b[0m \u001b[0;34m=\u001b[0m \u001b[0mRandomSampler\u001b[0m\u001b[0;34m(\u001b[0m\u001b[0mdataset\u001b[0m\u001b[0;34m,\u001b[0m \u001b[0mgenerator\u001b[0m\u001b[0;34m=\u001b[0m\u001b[0mgenerator\u001b[0m\u001b[0;34m)\u001b[0m\u001b[0;34m\u001b[0m\u001b[0;34m\u001b[0m\u001b[0m\n\u001b[0m\u001b[1;32m    269\u001b[0m                 \u001b[0;32melse\u001b[0m\u001b[0;34m:\u001b[0m\u001b[0;34m\u001b[0m\u001b[0;34m\u001b[0m\u001b[0m\n\u001b[1;32m    270\u001b[0m                     \u001b[0msampler\u001b[0m \u001b[0;34m=\u001b[0m \u001b[0mSequentialSampler\u001b[0m\u001b[0;34m(\u001b[0m\u001b[0mdataset\u001b[0m\u001b[0;34m)\u001b[0m\u001b[0;34m\u001b[0m\u001b[0;34m\u001b[0m\u001b[0m\n",
            "\u001b[0;32m/usr/local/lib/python3.7/dist-packages/torch/utils/data/sampler.py\u001b[0m in \u001b[0;36m__init__\u001b[0;34m(self, data_source, replacement, num_samples, generator)\u001b[0m\n\u001b[1;32m    101\u001b[0m         \u001b[0;32mif\u001b[0m \u001b[0;32mnot\u001b[0m \u001b[0misinstance\u001b[0m\u001b[0;34m(\u001b[0m\u001b[0mself\u001b[0m\u001b[0;34m.\u001b[0m\u001b[0mnum_samples\u001b[0m\u001b[0;34m,\u001b[0m \u001b[0mint\u001b[0m\u001b[0;34m)\u001b[0m \u001b[0;32mor\u001b[0m \u001b[0mself\u001b[0m\u001b[0;34m.\u001b[0m\u001b[0mnum_samples\u001b[0m \u001b[0;34m<=\u001b[0m \u001b[0;36m0\u001b[0m\u001b[0;34m:\u001b[0m\u001b[0;34m\u001b[0m\u001b[0;34m\u001b[0m\u001b[0m\n\u001b[1;32m    102\u001b[0m             raise ValueError(\"num_samples should be a positive integer \"\n\u001b[0;32m--> 103\u001b[0;31m                              \"value, but got num_samples={}\".format(self.num_samples))\n\u001b[0m\u001b[1;32m    104\u001b[0m \u001b[0;34m\u001b[0m\u001b[0m\n\u001b[1;32m    105\u001b[0m     \u001b[0;34m@\u001b[0m\u001b[0mproperty\u001b[0m\u001b[0;34m\u001b[0m\u001b[0;34m\u001b[0m\u001b[0m\n",
            "\u001b[0;31mValueError\u001b[0m: num_samples should be a positive integer value, but got num_samples=0"
          ]
        }
      ]
    }
  ]
}